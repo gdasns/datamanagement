{
  "nbformat": 4,
  "nbformat_minor": 0,
  "metadata": {
    "colab": {
      "name": "myreport.ipynb",
      "provenance": []
    },
    "kernelspec": {
      "name": "python3",
      "display_name": "Python 3"
    },
    "language_info": {
      "name": "python"
    }
  },
  "cells": [
    {
      "cell_type": "markdown",
      "source": [
        "# Data Management project\n",
        "- Giada Sansonetto\n",
        "- Valentina Conz\n",
        "- Matteo Secco"
      ],
      "metadata": {
        "id": "752Ni0Qa0CZl"
      }
    },
    {
      "cell_type": "markdown",
      "source": [
        "# 1. Introduction\n",
        "\n",
        "The project analyses some of the possible causes that may have worsened the damaging effects of the covid19 pandemic.\n",
        "\n",
        "## 1.1 Datasets\n",
        "The raw data has been taken from the following datasets:\n",
        "- https://www.kaggle.com/tanuprabhu/population-by-country-2020?select=population_by_country_ for the data regarding countries population\n",
        "- https://developers.google.com/public-data/docs/canonical/countries_csv for the data regarding latitude and longitude of countries\n",
        "- https://github.com/owid/covid-19-data/blob/master/public/data/vaccinations/vaccinations.csv for the data regarding vaccinations\n",
        "- https://github.com/datasets/covid-19/blob/main/data/countries-aggregated.csv for the data regarding covid infections and deaths\n",
        "- https://github.com/owid/covid-19-data/blob/master/public/data/vaccinations/vaccinations-by-manufacturer.csv for the data regarding vaccinations divided by manufacturer\n",
        "\n",
        "## 1.2 Data cleaning\n",
        "The raw data has subsequently been cleaned for name inconsistencies and missing/non relevant countries countries. The work has been done mainly by hand and with the help of Pyhton, resulting in the following files:\n",
        "- 1_population.csv\n",
        "- 2_longlat.csv\n",
        "- 3_vaccinations.csv\n",
        "- 4_covid.csv\n",
        "- 5_manufacturers.csv\n",
        "\n",
        "The first two files are the most extensive ones and will be merged, as they contain data for 228 countries. The others contain some missing data but they don't have any additional country/region, making the relation with the main table [1,1]."
      ],
      "metadata": {
        "id": "bDpS1J7F0FL6"
      }
    },
    {
      "cell_type": "markdown",
      "source": [
        "# 2. Requirement analysis and logical design\n",
        "\n",
        "In this section we will outline the requirement analysis and its logical design implementation.\n",
        "\n",
        "## Requirement analysis TO DO\n",
        "We have a list of countries names together with their ISO, population, density, land area, med. age, urban pop, latitude and longitude. And for most (but not all) of them we have their number of covid infections/recovered/death for each day since the beginning of the pandemic. At the same time for each day we have the records for the number of people vaccinated, the number of daily vaccinations, fully vaccinated per hundred, daily vaccination per million and daily people vaccinated per hundred, and the records for the vaccine for each country for each manufacturer. We want to keep this datasets separated even if they share the minimal key as the sources of data are different and there may be discrepancies.\n",
        "\n",
        "## Logical design\n",
        "Here there's the logical design:\n",
        "\n",
        "countries(<ins>ISO</ins>, name, population, density, land_area, med_age, lat, long)\n",
        "\n",
        "vaccinations(<ins>date</ins>, <ins>country</ins>: fk to countries(ISO), people_fully_vac, daily_vaccinations, people_fully_vaccinated_per_hundred, daily_people_vaccinated_per_hundred)\n",
        "\n",
        "covid(<ins>date</ins>, <ins>ISO</ins>: fk to countries(ISO), confirmed, recovered, deaths)\n",
        "\n",
        "manufacturer(<ins>date</ins>, <ins>ISO</ins>:fk to countries(ISO), vaccine, total)"
      ],
      "metadata": {
        "id": "GyHCRDUr0FT7"
      }
    },
    {
      "cell_type": "markdown",
      "source": [
        "# 3. Physical design\n",
        "First, we set up the libraries and the function used to load .csv files into the database.\n",
        "\n",
        "\n",
        "\n",
        "\n",
        "\n",
        "\n"
      ],
      "metadata": {
        "id": "1x4KavqI0FkG"
      }
    },
    {
      "cell_type": "code",
      "source": [
        "import os\n",
        "import numpy as np\n",
        "import pandas as pd\n",
        "from matplotlib import pyplot as plt\n",
        "import seaborn as sns\n",
        "import sqlite3 \n",
        "\n",
        "# deletes the file in case it is already existing\n",
        "try:\n",
        "    os.remove(\"database.db\")\n",
        "except OSError:\n",
        "    pass\n",
        "\n",
        "# connection with sqlite3\n",
        "conn = sqlite3.connect(\"database.db\")\n",
        "cur = conn.cursor()\n",
        "\n",
        "\n",
        "def run_sql(sql_command):\n",
        "  # executes a SQL code\n",
        "  \n",
        "  cur.execute(sql_command)\n",
        "  conn.commit()\n",
        "  if cur.description != None:\n",
        "    col_names = [i[0] for i in cur.description]\n",
        "    result = pd.DataFrame(cur.fetchall(), columns = col_names)\n",
        "    result\n",
        "    return result\n",
        "\n",
        "\n",
        "def dataframe_to_table(df,table_name):\n",
        "  # converts a Pandas dataframe into a SQL table in the database.\n",
        "  \n",
        "  df.to_sql(table_name, conn, if_exists='replace', index = False)\n",
        "  conn.commit()"
      ],
      "metadata": {
        "id": "s-yzxQQvL5G1"
      },
      "execution_count": null,
      "outputs": []
    },
    {
      "cell_type": "markdown",
      "source": [
        "the we blablabal\n"
      ],
      "metadata": {
        "id": "7ai62Fo0N5NP"
      }
    },
    {
      "cell_type": "markdown",
      "source": [
        "# 4. Queries"
      ],
      "metadata": {
        "id": "0Jef4wm70HRG"
      }
    },
    {
      "cell_type": "markdown",
      "source": [
        "# 5. Data visualization"
      ],
      "metadata": {
        "id": "xZ45UuYv0Hvi"
      }
    },
    {
      "cell_type": "markdown",
      "source": [
        "# 6. Discussion"
      ],
      "metadata": {
        "id": "lHBjNsht0IE7"
      }
    }
  ]
}